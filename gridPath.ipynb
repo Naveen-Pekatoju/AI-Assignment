{
 "cells": [
  {
   "cell_type": "code",
   "execution_count": 7,
   "id": "49d7a141-cd81-4b90-a728-56b909d81d9e",
   "metadata": {},
   "outputs": [],
   "source": [
    "class State:\n",
    "  def __init__(self, grid, n, x, y):\n",
    "    self.grid = grid\n",
    "    self.n = n\n",
    "    self.x = x\n",
    "    self.y = y\n",
    "    self.heuristic = self.calculate_heuristic()\n",
    "\n",
    "  def goalTest(self):\n",
    "    if self.x == n - 1 and self.y == n - 1:\n",
    "      return True\n",
    "    return False\n",
    "\n",
    "  def calculate_heuristic(self):\n",
    "    return max(abs(self.x - (self.n - 1)), abs(self.y - (self.n - 1)))\n",
    "\n",
    "  def moveGen(self):\n",
    "    directions = [(-1, -1), (-1, 0), (-1, 1), (0, -1), (0, 1), (1, -1), (1, 0), (1, 1)]\n",
    "    neighbours = []\n",
    "    for dx, dy in directions:\n",
    "      nx, ny = self.x + dx, self.y + dy\n",
    "      if 0 <= nx < self.n and 0 <= ny < self.n and self.grid[nx][ny] != 1:\n",
    "        neighbours.append(State(self.grid, self.n, nx, ny))\n",
    "    return neighbours\n",
    "\n",
    "  def __lt__(self, other):\n",
    "    return self.heuristic < other.heuristic\n",
    "\n",
    "  def __gt__(self, other):\n",
    "    return self.heuristic > other.heuristic\n",
    "\n",
    "  def __eq__(self, other):\n",
    "    return self.x == other.x and self.y == other.y\n",
    "\n",
    "  def __hash__(self):\n",
    "    return self.x * self.n + self.y\n"
   ]
  },
  {
   "cell_type": "code",
   "execution_count": 8,
   "id": "bc902757-905b-45cf-9eab-49fe02cdff4f",
   "metadata": {},
   "outputs": [],
   "source": [
    "\n",
    "from queue import PriorityQueue\n",
    "\n",
    "def BestFS(initial_state):\n",
    "  frontier = PriorityQueue()\n",
    "  frontier.put((initial_state.heuristic, initial_state, None))\n",
    "  explored = {}\n",
    "\n",
    "  while not frontier.empty():\n",
    "    _, current_state, parent = frontier.get()\n",
    "\n",
    "    if current_state.goalTest():\n",
    "      explored[current_state] = parent\n",
    "      return current_state, explored\n",
    "\n",
    "    if current_state not in explored:\n",
    "      explored[current_state] = parent\n",
    "      for neighbour in current_state.moveGen():\n",
    "        in_frontier = False\n",
    "        for _, state_in_frontier, _ in frontier.queue:\n",
    "            if neighbour == state_in_frontier:\n",
    "                in_frontier = True\n",
    "                break\n",
    "\n",
    "        if neighbour not in explored and not in_frontier:\n",
    "          frontier.put((neighbour.heuristic, neighbour, current_state))\n",
    "\n",
    "  return None, None\n",
    "     "
   ]
  },
  {
   "cell_type": "code",
   "execution_count": 9,
   "id": "aa125f9f-0b16-4275-a6f3-2646f2bf6f17",
   "metadata": {},
   "outputs": [],
   "source": [
    "def reconstruct_path(explored, goal_state):\n",
    "  path = []\n",
    "  current_state = goal_state\n",
    "  while current_state is not None:\n",
    "    path.append(current_state)\n",
    "    current_state = explored.get(current_state)\n",
    "  path.reverse()\n",
    "  return path"
   ]
  },
  {
   "cell_type": "code",
   "execution_count": 10,
   "id": "9c2c4836-160f-4c27-a2f2-931e04ffc6db",
   "metadata": {},
   "outputs": [
    {
     "name": "stdout",
     "output_type": "stream",
     "text": [
      "Generated grid of size 5 x 5:\n",
      "[0, 1, 1, 0, 1]\n",
      "[0, 0, 1, 0, 1]\n",
      "[1, 0, 0, 0, 0]\n",
      "[0, 0, 0, 0, 1]\n",
      "[1, 1, 1, 1, 0]\n"
     ]
    }
   ],
   "source": [
    "import random\n",
    "\n",
    "n = random.randint(3, 10)\n",
    "\n",
    "grid = [[random.randint(0, 1) for _ in range(n)] for _ in range(n)]\n",
    "grid[0][0] = 0\n",
    "grid[n - 1][n - 1] = 0\n",
    "\n",
    "initial_state = State(grid, n, 0, 0)\n",
    "\n",
    "print(f\"Generated grid of size {n} x {n}:\")\n",
    "for row in grid:\n",
    "    print(row)"
   ]
  },
  {
   "cell_type": "code",
   "execution_count": 11,
   "id": "9e6f2b8b-3b9c-45c9-81df-b4f69770ec7c",
   "metadata": {},
   "outputs": [
    {
     "name": "stdout",
     "output_type": "stream",
     "text": [
      "Goal reached!\n",
      "Path:\n",
      "(0, 0)\n",
      "(1, 1)\n",
      "(2, 2)\n",
      "(3, 3)\n",
      "(4, 4)\n"
     ]
    }
   ],
   "source": [
    "result, explored_states = BestFS(initial_state)\n",
    "\n",
    "if result:\n",
    "  print(\"Goal reached!\")\n",
    "  path = reconstruct_path(explored_states, result)\n",
    "  print(\"Path:\")\n",
    "  for state in path:\n",
    "    print(f\"({state.x}, {state.y})\")\n",
    "else:\n",
    "  print(\"Goal not reached.\")\n",
    "     "
   ]
  },
  {
   "cell_type": "code",
   "execution_count": null,
   "id": "23e2cd00-ae81-42d0-addc-9b4a89bb1ea1",
   "metadata": {},
   "outputs": [],
   "source": []
  }
 ],
 "metadata": {
  "kernelspec": {
   "display_name": "Python 3 (ipykernel)",
   "language": "python",
   "name": "python3"
  },
  "language_info": {
   "codemirror_mode": {
    "name": "ipython",
    "version": 3
   },
   "file_extension": ".py",
   "mimetype": "text/x-python",
   "name": "python",
   "nbconvert_exporter": "python",
   "pygments_lexer": "ipython3",
   "version": "3.10.12"
  }
 },
 "nbformat": 4,
 "nbformat_minor": 5
}
