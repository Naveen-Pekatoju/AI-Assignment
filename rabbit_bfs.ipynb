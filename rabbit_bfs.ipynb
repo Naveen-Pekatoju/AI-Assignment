{
 "cells": [
  {
   "cell_type": "code",
   "execution_count": 184,
   "id": "b732e91c-92bf-4f0e-93f9-8d9d3bb4eb6e",
   "metadata": {},
   "outputs": [],
   "source": [
    "class State :\n",
    "    def __init__(self, pos) :\n",
    "        self.pos = pos\n",
    "        \n",
    "    def GoalTest(self) : \n",
    "        c = 0\n",
    "        i = 0\n",
    "        while (c < 3) :\n",
    "            if self.pos[i] == 'W' :\n",
    "                return False\n",
    "            if self.pos[i] == 'E' :\n",
    "                c+=1\n",
    "            i+=1\n",
    "        return True\n",
    "        \n",
    "    def MoveGen(self) :\n",
    "        child = []\n",
    "        n = len(self.pos)\n",
    "        for i in range(0,n) :\n",
    "            if self.pos[i] == 'W' :\n",
    "                if ((i+1) < n) and self.pos[i+1] == '_' :\n",
    "                    c = list(self.pos)\n",
    "                    c[i] = '_'\n",
    "                    c[i+1] = 'W'\n",
    "                    child.append(State(c))\n",
    "                if ((i+2) < n) and self.pos[i+2] == '_' :\n",
    "                    c = list(self.pos)\n",
    "                    c[i] = '_'\n",
    "                    c[i+2] = 'W'\n",
    "                    child.append(State(c))\n",
    "            if self.pos[i] == 'E' :\n",
    "                if ((i-1) >= 0) and self.pos[i-1] == '_' :\n",
    "                    c = list(self.pos)\n",
    "                    c[i] = '_'\n",
    "                    c[i-1] = 'E'\n",
    "                    child.append(State(c))\n",
    "                if ((i-2) >= 0) and self.pos[i-2] == '_' :\n",
    "                    c = list(self.pos)\n",
    "                    c[i] = '_'\n",
    "                    c[i-2] = 'E'\n",
    "                    child.append(State(c))\n",
    "        return child\n",
    "                    \n",
    "    def __eq__(self, other) :\n",
    "        if self.pos == other.pos :\n",
    "            return True\n",
    "        return False\n",
    "        \n",
    "    def __str__(self) :\n",
    "        return str(self.pos)\n",
    "    \n",
    "            "
   ]
  },
  {
   "cell_type": "code",
   "execution_count": 185,
   "id": "424fc5a2-771a-4d4a-9ab1-9e2a3302fc3a",
   "metadata": {},
   "outputs": [],
   "source": [
    "def path(node,closed) :\n",
    "    temp = []\n",
    "    closed = closed[::-1]\n",
    "    for i in closed :\n",
    "        if i[0] == node :\n",
    "            temp.append(node)\n",
    "            node = i[1]\n",
    "    temp = temp[::-1]\n",
    "    for i in temp :\n",
    "        print(i)\n",
    "    "
   ]
  },
  {
   "cell_type": "code",
   "execution_count": 186,
   "id": "bf212acc-6a55-463a-95a0-2511dad76ad7",
   "metadata": {},
   "outputs": [],
   "source": [
    "def bfs(root) :\n",
    "    \n",
    "    opennodes = [[root,None]]\n",
    "    closed = []\n",
    "    for node in opennodes :\n",
    "        if node[0].GoalTest() :\n",
    "            print(\"Goal Found\")\n",
    "            # print(node[0])\n",
    "            closed.append(node)\n",
    "            path(node[0],closed)\n",
    "            break\n",
    "        else :\n",
    "            closed.append(node)\n",
    "            children = node[0].MoveGen()\n",
    "            for i in children :\n",
    "                opennodes.append([i,node[0]])"
   ]
  },
  {
   "cell_type": "code",
   "execution_count": 187,
   "id": "98b89846-6fcd-4888-942b-2f79a5cc2153",
   "metadata": {},
   "outputs": [],
   "source": [
    "arr = ['W', 'W', 'W', '_', 'E', 'E', 'E']\n",
    "root1 = State(arr)"
   ]
  },
  {
   "cell_type": "code",
   "execution_count": 188,
   "id": "22e69dc1-b260-4611-b3a8-f18cc53964ee",
   "metadata": {},
   "outputs": [
    {
     "name": "stdout",
     "output_type": "stream",
     "text": [
      "Goal Found\n",
      "['W', 'W', 'W', '_', 'E', 'E', 'E']\n",
      "['W', 'W', '_', 'W', 'E', 'E', 'E']\n",
      "['W', 'W', 'E', 'W', '_', 'E', 'E']\n",
      "['W', 'W', 'E', 'W', 'E', '_', 'E']\n",
      "['W', 'W', 'E', '_', 'E', 'W', 'E']\n",
      "['W', '_', 'E', 'W', 'E', 'W', 'E']\n",
      "['_', 'W', 'E', 'W', 'E', 'W', 'E']\n",
      "['E', 'W', '_', 'W', 'E', 'W', 'E']\n",
      "['E', 'W', 'E', 'W', '_', 'W', 'E']\n",
      "['E', 'W', 'E', 'W', 'E', 'W', '_']\n",
      "['E', 'W', 'E', 'W', 'E', '_', 'W']\n",
      "['E', 'W', 'E', '_', 'E', 'W', 'W']\n",
      "['E', '_', 'E', 'W', 'E', 'W', 'W']\n",
      "['E', 'E', '_', 'W', 'E', 'W', 'W']\n",
      "['E', 'E', 'E', 'W', '_', 'W', 'W']\n"
     ]
    }
   ],
   "source": [
    "bfs(root1)"
   ]
  }
 ],
 "metadata": {
  "kernelspec": {
   "display_name": "Python 3 (ipykernel)",
   "language": "python",
   "name": "python3"
  },
  "language_info": {
   "codemirror_mode": {
    "name": "ipython",
    "version": 3
   },
   "file_extension": ".py",
   "mimetype": "text/x-python",
   "name": "python",
   "nbconvert_exporter": "python",
   "pygments_lexer": "ipython3",
   "version": "3.10.12"
  }
 },
 "nbformat": 4,
 "nbformat_minor": 5
}
