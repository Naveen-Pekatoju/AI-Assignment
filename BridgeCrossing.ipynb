{
 "cells": [
  {
   "cell_type": "code",
   "execution_count": 1,
   "id": "72a34e6c-1e95-4aad-9a30-f814f7986435",
   "metadata": {},
   "outputs": [],
   "source": [
    "class BridgeState:\n",
    "    def __init__(self, left, right, time, side):\n",
    "        self.left = left\n",
    "        self.right = right\n",
    "        self.time = time\n",
    "        self.side = side\n",
    "\n",
    "    def goalTest(self):\n",
    "        return len(self.left) == 0 and self.time <= 60 and self.side == 'R'\n",
    "\n",
    "    def moveGen(self):\n",
    "        T = {'A': 5, 'B': 10, 'G': 20, 'P': 25}\n",
    "        children = []\n",
    "        if self.side == 'L':\n",
    "            for i in range(len(self.left)):\n",
    "                p = self.left[i]\n",
    "                new_left = self.left[:]\n",
    "                new_left.remove(p)\n",
    "                new_right = self.right + [p]\n",
    "                new_time = self.time + T[p]\n",
    "                if new_time <= 60:\n",
    "                    children.append(BridgeState(new_left, new_right, new_time, 'R'))\n",
    "\n",
    "            n = len(self.left)\n",
    "            for i in range(n):\n",
    "                for j in range(i + 1, n):\n",
    "                    p1 = self.left[i]\n",
    "                    p2 = self.left[j]\n",
    "                    new_left = self.left[:]\n",
    "                    new_left.remove(p1)\n",
    "                    new_left.remove(p2)\n",
    "                    new_right = self.right + [p1, p2]\n",
    "                    new_time = self.time + max(T[p1], T[p2])\n",
    "                    if new_time <= 60:\n",
    "                        children.append(BridgeState(new_left, new_right, new_time, 'R'))\n",
    "        else:\n",
    "            for p in self.right:\n",
    "                new_right = self.right[:]\n",
    "                new_right.remove(p)\n",
    "                new_left = self.left + [p]\n",
    "                new_time = self.time + T[p]\n",
    "                if new_time <= 60:\n",
    "                    children.append(BridgeState(new_left, new_right, new_time, 'L'))\n",
    "        return children\n",
    "\n",
    "    def __str__(self):\n",
    "        return f\"L:{self.left} R:{self.right} T:{self.time} S:{self.side}\"\n",
    "\n",
    "    def __eq__(self, other):\n",
    "        return self.left == other.left and self.right == other.right and self.time == other.time and self.side == other.side\n",
    "\n",
    "    def __hash__(self):\n",
    "        return hash(str(self))\n"
   ]
  },
  {
   "cell_type": "code",
   "execution_count": 2,
   "id": "f5027382-e46f-494e-8675-b44f568498a8",
   "metadata": {},
   "outputs": [],
   "source": [
    "def bridge_dfs(state, visited=None, path=None):\n",
    "    if visited is None:\n",
    "        visited = []\n",
    "    if path is None:\n",
    "        path = []\n",
    "    key = str(state)\n",
    "    if key in visited:\n",
    "        return None\n",
    "    visited.append(key)\n",
    "    path.append(state)\n",
    "    if state.goalTest():\n",
    "        return path\n",
    "    for child in state.moveGen():\n",
    "        result = bridge_dfs(child, visited[:], path[:])\n",
    "        if result:\n",
    "            return result\n",
    "    return None\n"
   ]
  },
  {
   "cell_type": "code",
   "execution_count": 3,
   "id": "717ae7e5-c854-4b11-9dec-2b5601792adc",
   "metadata": {},
   "outputs": [],
   "source": [
    "def bridge_bfs(start):\n",
    "    queue = [(start, [start])]\n",
    "    visited = []\n",
    "    while queue:\n",
    "        state, path = queue.pop(0)\n",
    "        key = str(state)\n",
    "        if key in visited:\n",
    "            continue\n",
    "        visited.append(key)\n",
    "        if state.goalTest():\n",
    "            return path\n",
    "        for child in state.moveGen():\n",
    "            queue.append((child, path + [child]))\n",
    "    return None\n"
   ]
  },
  {
   "cell_type": "code",
   "execution_count": 4,
   "id": "56f9f441-7457-4e06-baad-4bfd35df5bb6",
   "metadata": {},
   "outputs": [
    {
     "name": "stdout",
     "output_type": "stream",
     "text": [
      "Bridge BFS Solution:\n",
      "L:['A', 'B', 'G', 'P'] R:[] T:0 S:L\n",
      "L:['G', 'P'] R:['A', 'B'] T:10 S:R\n",
      "L:['G', 'P', 'A'] R:['B'] T:15 S:L\n",
      "L:['A'] R:['B', 'G', 'P'] T:40 S:R\n",
      "L:['A', 'B'] R:['G', 'P'] T:50 S:L\n",
      "L:[] R:['G', 'P', 'A', 'B'] T:60 S:R\n"
     ]
    }
   ],
   "source": [
    "start = BridgeState(['A', 'B', 'G', 'P'], [], 0, 'L')\n",
    "solution = bridge_bfs(start)\n",
    "print(\"Bridge BFS Solution:\")\n",
    "if solution:\n",
    "    for s in solution:\n",
    "        print(s)\n",
    "else:\n",
    "    print(\"No BFS solution found.\")\n"
   ]
  },
  {
   "cell_type": "code",
   "execution_count": 5,
   "id": "cec8c6a8-1b95-4861-8c58-8cca582837ea",
   "metadata": {},
   "outputs": [
    {
     "name": "stdout",
     "output_type": "stream",
     "text": [
      "Bridge DFS Solution:\n",
      "L:['A', 'B', 'G', 'P'] R:[] T:0 S:L\n",
      "L:['G', 'P'] R:['A', 'B'] T:10 S:R\n",
      "L:['G', 'P', 'A'] R:['B'] T:15 S:L\n",
      "L:['A'] R:['B', 'G', 'P'] T:40 S:R\n",
      "L:['A', 'B'] R:['G', 'P'] T:50 S:L\n",
      "L:[] R:['G', 'P', 'A', 'B'] T:60 S:R\n"
     ]
    }
   ],
   "source": [
    "start = BridgeState(['A', 'B', 'G', 'P'], [], 0, 'L')\n",
    "solution = bridge_dfs(start)\n",
    "print(\"Bridge DFS Solution:\")\n",
    "if solution:\n",
    "    for s in solution:\n",
    "        print(s)\n",
    "else:\n",
    "    print(\"No DFS solution found.\")\n"
   ]
  },
  {
   "cell_type": "code",
   "execution_count": null,
   "id": "241e42f6-b7fd-435c-84ac-68435ad2eaac",
   "metadata": {},
   "outputs": [],
   "source": []
  }
 ],
 "metadata": {
  "kernelspec": {
   "display_name": "Python 3 (ipykernel)",
   "language": "python",
   "name": "python3"
  },
  "language_info": {
   "codemirror_mode": {
    "name": "ipython",
    "version": 3
   },
   "file_extension": ".py",
   "mimetype": "text/x-python",
   "name": "python",
   "nbconvert_exporter": "python",
   "pygments_lexer": "ipython3",
   "version": "3.10.12"
  }
 },
 "nbformat": 4,
 "nbformat_minor": 5
}
